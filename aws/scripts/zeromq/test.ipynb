{
 "cells": [
  {
   "cell_type": "code",
   "execution_count": 1,
   "metadata": {
    "collapsed": true
   },
   "outputs": [
    {
     "name": "stdout",
     "output_type": "stream",
     "text": [
      "Waiting for updates...\n",
      "Received message: update: Here's some new data!\n",
      "Received message: update: Here's some new data!\n",
      "Received message: update: Here's some new data!\n",
      "Received message: update: Here's some new data!\n",
      "Received message: update: Here's some new data!\n",
      "Received message: update: Here's some new data!\n"
     ]
    },
    {
     "name": "stderr",
     "output_type": "stream",
     "text": [
      "\n",
      "KeyboardInterrupt\n",
      "\n"
     ]
    }
   ],
   "source": [
    "import zmq\n",
    "\n",
    "def main():\n",
    "    context = zmq.Context()\n",
    "    socket = context.socket(zmq.SUB)\n",
    "    socket.connect(\"tcp://localhost:5555\")\n",
    "    socket.setsockopt_string(zmq.SUBSCRIBE, \"update\")\n",
    "\n",
    "    poller = zmq.Poller()\n",
    "    poller.register(socket, zmq.POLLIN)\n",
    "\n",
    "    # Wait up to 10 seconds for a message\n",
    "    timeout = 10000  # 10 seconds in milliseconds\n",
    "\n",
    "    print(\"Waiting for updates...\")\n",
    "    while True:\n",
    "        socks = dict(poller.poll(timeout))\n",
    "        if socket in socks and socks[socket] == zmq.POLLIN:\n",
    "            message = socket.recv_string()\n",
    "            print(\"Received message:\", message)\n",
    "        else:\n",
    "            print(\"No updates. Checking again...\")\n",
    "\n",
    "if __name__ == \"__main__\":\n",
    "    main()\n"
   ]
  },
  {
   "cell_type": "code",
   "execution_count": null,
   "outputs": [],
   "source": [],
   "metadata": {
    "collapsed": false
   }
  }
 ],
 "metadata": {
  "kernelspec": {
   "display_name": "Python 3",
   "language": "python",
   "name": "python3"
  },
  "language_info": {
   "codemirror_mode": {
    "name": "ipython",
    "version": 2
   },
   "file_extension": ".py",
   "mimetype": "text/x-python",
   "name": "python",
   "nbconvert_exporter": "python",
   "pygments_lexer": "ipython2",
   "version": "2.7.6"
  }
 },
 "nbformat": 4,
 "nbformat_minor": 0
}
